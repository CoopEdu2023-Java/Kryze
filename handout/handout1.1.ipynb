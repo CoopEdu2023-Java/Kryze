{
 "cells": [
  {
   "cell_type": "markdown",
   "metadata": {},
   "source": [
    "# 1. Hello World!"
   ]
  },
  {
   "cell_type": "code",
   "execution_count": 1,
   "metadata": {},
   "outputs": [
    {
     "name": "stdout",
     "output_type": "stream",
     "text": [
      "HelloWorld\n"
     ]
    }
   ],
   "source": [
    "System.out.println(\"HelloWorld\")"
   ]
  },
  {
   "cell_type": "markdown",
   "metadata": {},
   "source": [
    "# 2. Variable"
   ]
  },
  {
   "cell_type": "markdown",
   "metadata": {},
   "source": [
    "##### 2.1 Define different basic types of variables."
   ]
  },
  {
   "cell_type": "code",
   "execution_count": 2,
   "metadata": {},
   "outputs": [],
   "source": [
    "byte b = 100;\n",
    "short s = 1000;\n",
    "int i = 10000;\n",
    "long l = 100000L;\n",
    "\n",
    "// 浮点数类型\n",
    "float f = 10.5f;\n",
    "double d = 20.5;\n",
    "\n",
    "// 字符类型\n",
    "char c = 'A';\n",
    "\n",
    "// 布尔类型\n",
    "boolean bool = true;"
   ]
  },
  {
   "cell_type": "markdown",
   "metadata": {},
   "source": [
    "##### 2.2 Use different operators between variables."
   ]
  },
  {
   "cell_type": "code",
   "execution_count": 4,
   "metadata": {},
   "outputs": [
    {
     "name": "stdout",
     "output_type": "stream",
     "text": [
      "Sum: 15\n",
      "Difference: 5\n",
      "Product: 50\n",
      "Quotient: 2\n",
      "Remainder: 0\n"
     ]
    }
   ],
   "source": [
    "int a = 10;\n",
    "int b = 5;\n",
    "int sum = a + b;       // 加法\n",
    "int difference = a - b; // 减法\n",
    "int product = a * b;    // 乘法\n",
    "int quotient = a / b;   // 除法\n",
    "int remainder = a % b;  // 取余\n",
    "\n",
    "System.out.println(\"Sum: \" + sum);\n",
    "System.out.println(\"Difference: \" + difference);\n",
    "System.out.println(\"Product: \" + product);\n",
    "System.out.println(\"Quotient: \" + quotient);\n",
    "System.out.println(\"Remainder: \" + remainder);"
   ]
  },
  {
   "cell_type": "markdown",
   "metadata": {},
   "source": [
    "##### 2.3 Define a list and use CRUD methods."
   ]
  },
  {
   "cell_type": "code",
   "execution_count": 9,
   "metadata": {},
   "outputs": [
    {
     "name": "stdout",
     "output_type": "stream",
     "text": [
      "Fruits List after creation: [Apple, Banana, Orange]\n",
      "First fruit: Apple\n",
      "Apple\n",
      "Banana\n",
      "Orange\n",
      "Fruits List after update: [Apple, Grape, Orange]\n",
      "Fruits List after deletion: [Grape]\n"
     ]
    }
   ],
   "source": [
    "List<String> fruits = new ArrayList<>();\n",
    "\n",
    "// 添加元素\n",
    "fruits.add(\"Apple\");\n",
    "fruits.add(\"Banana\");\n",
    "fruits.add(\"Orange\");\n",
    "\n",
    "System.out.println(\"Fruits List after creation: \" + fruits);\n",
    "\n",
    "\n",
    "String firstFruit = fruits.get(0);\n",
    "System.out.println(\"First fruit: \" + firstFruit);\n",
    "\n",
    "// 遍历列表\n",
    "for (String fruit : fruits) {\n",
    "    System.out.println(fruit);\n",
    "}\n",
    "// 更新元素\n",
    "fruits.set(1, \"Grape\");  // 将第二个元素 Banana 改为 Grape\n",
    "\n",
    "System.out.println(\"Fruits List after update: \" + fruits);\n",
    "\n",
    "// 通过索引删除元素\n",
    "fruits.remove(0);  // 删除第一个元素\n",
    "\n",
    "// 通过值删除元素\n",
    "fruits.remove(\"Orange\");\n",
    "\n",
    "System.out.println(\"Fruits List after deletion: \" + fruits);\n"
   ]
  },
  {
   "cell_type": "markdown",
   "metadata": {},
   "source": [
    "##### 2.4 Define a map and use CRUD methods."
   ]
  },
  {
   "cell_type": "code",
   "execution_count": 16,
   "metadata": {},
   "outputs": [
    {
     "name": "stdout",
     "output_type": "stream",
     "text": [
      "Fruit Prices after creation: {Apple=100, Orange=120, Banana=80}\n",
      "Price of Apple: 100\n",
      "Fruit Prices List:\n",
      "Apple: 100\n",
      "Orange: 120\n",
      "Banana: 80\n",
      "Fruit Prices after update: {Apple=100, Orange=120, Banana=90}\n",
      "Fruit Prices after deletion: {Apple=100, Banana=90}\n"
     ]
    }
   ],
   "source": [
    "Map<String, Integer> fruitPrices = new HashMap<>();\n",
    "\n",
    "// 添加键值对\n",
    "fruitPrices.put(\"Apple\", 100);\n",
    "fruitPrices.put(\"Banana\", 80);\n",
    "fruitPrices.put(\"Orange\", 120);\n",
    "\n",
    "System.out.println(\"Fruit Prices after creation: \" + fruitPrices);\n",
    "\n",
    "\n",
    "// 读取单个值\n",
    "int applePrice = fruitPrices.get(\"Apple\");\n",
    "System.out.println(\"Price of Apple: \" + applePrice);\n",
    "\n",
    "// 遍历Map的键值对\n",
    "System.out.println(\"Fruit Prices List:\");\n",
    "for (Map.Entry<String, Integer> entry : fruitPrices.entrySet()) {\n",
    "    System.out.println(entry.getKey() + \": \" + entry.getValue());\n",
    "}\n",
    "\n",
    "// 更新键值对\n",
    "fruitPrices.put(\"Banana\", 90);  // 更新香蕉的价格\n",
    "\n",
    "System.out.println(\"Fruit Prices after update: \" + fruitPrices);\n",
    "\n",
    "// 删除键值对\n",
    "fruitPrices.remove(\"Orange\");\n",
    "\n",
    "System.out.println(\"Fruit Prices after deletion: \" + fruitPrices);\n"
   ]
  },
  {
   "cell_type": "markdown",
   "metadata": {},
   "source": [
    "# 3. IO"
   ]
  },
  {
   "cell_type": "code",
   "execution_count": 2,
   "metadata": {},
   "outputs": [
    {
     "name": "stdout",
     "output_type": "stream",
     "text": [
      "123\n"
     ]
    }
   ],
   "source": [
    "Scanner scanner = new Scanner(System.in);\n",
    "String a = scanner.nextLine();\n",
    "System.out.println(a);\n",
    "scanner.close();"
   ]
  },
  {
   "cell_type": "markdown",
   "metadata": {},
   "source": [
    "# 4. Program Structure"
   ]
  },
  {
   "cell_type": "markdown",
   "metadata": {},
   "source": [
    "##### 4.1 Write a conditional statement."
   ]
  },
  {
   "cell_type": "code",
   "execution_count": 3,
   "metadata": {},
   "outputs": [
    {
     "name": "stdout",
     "output_type": "stream",
     "text": [
      "1\n"
     ]
    }
   ],
   "source": [
    "int a = 1;\n",
    "\n",
    "if (a == 1) {\n",
    "    System.out.println(1);\n",
    "} \n",
    "else {\n",
    "    System.out.println(2);\n",
    "}"
   ]
  },
  {
   "cell_type": "markdown",
   "metadata": {},
   "source": [
    "##### 4.2 Write a while loop."
   ]
  },
  {
   "cell_type": "code",
   "execution_count": 4,
   "metadata": {},
   "outputs": [
    {
     "name": "stdout",
     "output_type": "stream",
     "text": [
      "3\n",
      "2\n",
      "1\n",
      "0\n"
     ]
    }
   ],
   "source": [
    "int a = 4;\n",
    "\n",
    "while (a > 0) {\n",
    "    a -= 1;\n",
    "    System.out.println(a);\n",
    "}"
   ]
  },
  {
   "cell_type": "markdown",
   "metadata": {},
   "source": [
    "##### 4.3 Write a for loop."
   ]
  },
  {
   "cell_type": "code",
   "execution_count": 7,
   "metadata": {},
   "outputs": [
    {
     "name": "stdout",
     "output_type": "stream",
     "text": [
      "0\n"
     ]
    },
    {
     "name": "stdout",
     "output_type": "stream",
     "text": [
      "1\n",
      "2\n",
      "3\n",
      "4\n",
      "5\n",
      "6\n",
      "7\n",
      "8\n",
      "9\n"
     ]
    }
   ],
   "source": [
    "for (int i = 0; i < 10; i++) {\n",
    "    System.out.println(i);\n",
    "}"
   ]
  },
  {
   "cell_type": "code",
   "execution_count": 12,
   "metadata": {},
   "outputs": [
    {
     "name": "stdout",
     "output_type": "stream",
     "text": [
      "1\n",
      "2\n",
      "3\n",
      "4\n"
     ]
    }
   ],
   "source": [
    "List<Integer> list = Arrays.asList(1, 2, 3, 4);\n",
    "\n",
    "for (int i : list) {\n",
    "    System.out.println(i);\n",
    "}"
   ]
  },
  {
   "cell_type": "markdown",
   "metadata": {},
   "source": [
    "##### 4.4 Define a function."
   ]
  },
  {
   "cell_type": "code",
   "execution_count": 17,
   "metadata": {},
   "outputs": [
    {
     "name": "stdout",
     "output_type": "stream",
     "text": [
      "3\n"
     ]
    }
   ],
   "source": [
    "int f(int a, int b) {\n",
    "    return a + b;\n",
    "}\n",
    "\n",
    "System.out.println(f(1, 2));"
   ]
  },
  {
   "cell_type": "markdown",
   "metadata": {},
   "source": [
    "# 5. Exception Handling"
   ]
  },
  {
   "cell_type": "markdown",
   "metadata": {},
   "source": [
    "##### 5.1 Catch an exception."
   ]
  },
  {
   "cell_type": "code",
   "execution_count": 18,
   "metadata": {},
   "outputs": [
    {
     "name": "stdout",
     "output_type": "stream",
     "text": [
      "java.lang.ArithmeticException: / by zero\n"
     ]
    }
   ],
   "source": [
    "try {\n",
    "    System.out.println(1 / 0);\n",
    "} catch(Exception e) {\n",
    "    System.out.println(e);\n",
    "}"
   ]
  },
  {
   "cell_type": "markdown",
   "metadata": {},
   "source": [
    "##### 5.2 Throw an exception."
   ]
  },
  {
   "cell_type": "code",
   "execution_count": 19,
   "metadata": {},
   "outputs": [
    {
     "ename": "EvalException",
     "evalue": "error",
     "output_type": "error",
     "traceback": [
      "\u001b[1m\u001b[31m---------------------------------------------------------------------------\u001b[0m",
      "\u001b[1m\u001b[31mjava.lang.RuntimeException: error\u001b[0m",
      "\u001b[1m\u001b[31m\tat .(#56:1)\u001b[0m"
     ]
    }
   ],
   "source": [
    "throw new RuntimeException(\"error\");"
   ]
  },
  {
   "cell_type": "markdown",
   "metadata": {},
   "source": [
    "# 6. File IO"
   ]
  },
  {
   "cell_type": "markdown",
   "metadata": {},
   "source": [
    "##### 6.1 Read a file."
   ]
  },
  {
   "cell_type": "code",
   "execution_count": 25,
   "metadata": {},
   "outputs": [
    {
     "name": "stdout",
     "output_type": "stream",
     "text": [
      "PASSWORD\n"
     ]
    }
   ],
   "source": [
    "import java.nio.file.Files;\n",
    "import java.nio.file.Paths;\n",
    "List<String> lines = Files.readAllLines(Paths.get(\"example.txt\"));\n",
    "lines.forEach(System.out::println);"
   ]
  },
  {
   "cell_type": "code",
   "execution_count": 27,
   "metadata": {},
   "outputs": [
    {
     "name": "stdout",
     "output_type": "stream",
     "text": [
      "test\n"
     ]
    }
   ],
   "source": [
    "import java.nio.file.Paths;\n",
    "\n",
    "String s = Files.readString(Paths.get(\"example.txt\"));\n",
    "System.out.println(s);"
   ]
  },
  {
   "cell_type": "markdown",
   "metadata": {},
   "source": [
    "##### 6.2 Write to a file."
   ]
  },
  {
   "cell_type": "code",
   "execution_count": 26,
   "metadata": {},
   "outputs": [
    {
     "data": {
      "text/plain": [
       "example.txt"
      ]
     },
     "execution_count": 26,
     "metadata": {},
     "output_type": "execute_result"
    }
   ],
   "source": [
    "import java.nio.file.Files;\n",
    "import java.nio.file.Paths;\n",
    "\n",
    "String s = \"test\";\n",
    "Files.write(Paths.get(\"example.txt\"), s.getBytes());"
   ]
  }
 ],
 "metadata": {
  "kernelspec": {
   "display_name": "Java",
   "language": "java",
   "name": "java"
  },
  "language_info": {
   "codemirror_mode": "java",
   "file_extension": ".jshell",
   "mimetype": "text/x-java-source",
   "name": "java",
   "pygments_lexer": "java",
   "version": "21.0.4+8-LTS-274"
  }
 },
 "nbformat": 4,
 "nbformat_minor": 2
}
