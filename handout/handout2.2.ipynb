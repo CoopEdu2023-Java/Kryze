{
 "cells": [
  {
   "cell_type": "markdown",
   "metadata": {},
   "source": [
    "# *Task1*\n",
    "*Implement following classes according to the requirements:*\n",
    "- ***Teacher**: Teachers can teach students.*\n",
    "- ***Staff**: Staff can work and get paid.*\n",
    "- ***Principal**: Principal can make the school better.*"
   ]
  },
  {
   "cell_type": "code",
   "execution_count": null,
   "metadata": {
    "vscode": {
     "languageId": "java"
    }
   },
   "outputs": [],
   "source": []
  },
  {
   "cell_type": "markdown",
   "metadata": {},
   "source": [
    "# 1. Abstract Class"
   ]
  },
  {
   "cell_type": "markdown",
   "metadata": {},
   "source": [
    "##### 1.1 Define an abstract class with a abstract method."
   ]
  },
  {
   "cell_type": "code",
   "execution_count": null,
   "metadata": {
    "vscode": {
     "languageId": "java"
    }
   },
   "outputs": [],
   "source": [
    "abstract class A{\n",
    "    private int x;\n",
    "    public void test(){}\n",
    "    abstract public void func();\n",
    "}"
   ]
  },
  {
   "cell_type": "markdown",
   "metadata": {},
   "source": [
    "##### 1.2 Write an inherited class."
   ]
  },
  {
   "cell_type": "code",
   "execution_count": null,
   "metadata": {
    "vscode": {
     "languageId": "java"
    }
   },
   "outputs": [],
   "source": [
    "class B extends A{\n",
    "    @override\n",
    "    public void func(){}\n",
    "}"
   ]
  },
  {
   "cell_type": "markdown",
   "metadata": {},
   "source": [
    "##### 1.3 Design the following classes with abstract class.\n",
    "1. Frog:\n",
    "    - name, age\n",
    "    - eat bugs, drink\n",
    "2. Dog:\n",
    "    - name, age\n",
    "    - eat bones, drink\n",
    "3. Sheep:\n",
    "    - name, age\n",
    "    - eat grass, drink"
   ]
  },
  {
   "cell_type": "code",
   "execution_count": 7,
   "metadata": {
    "vscode": {
     "languageId": "java"
    }
   },
   "outputs": [],
   "source": [
    "abstract class Animal {\n",
    "    private int age;\n",
    "    private String name;\n",
    "    abstract public void eat();\n",
    "    abstract public void drink();\n",
    "}\n",
    "\n",
    "public class Frog extends Animal {\n",
    "    @Override\n",
    "    public void eat() {\n",
    "        System.out.println(\"bugs\");\n",
    "    }\n",
    "    @Override\n",
    "    public void drink() {\n",
    "        System.out.println(\"drink\");\n",
    "    }\n",
    "}\n",
    "public class Dog extends Animal {\n",
    "    @Override\n",
    "    public void eat() {\n",
    "        System.out.println(\"bones\");\n",
    "    }\n",
    "    @Override\n",
    "    public void drink() {\n",
    "        System.out.println(\"drink\");\n",
    "    }\n",
    "}\n",
    "public class Sheep extends Animal {\n",
    "    @Override\n",
    "    public void eat() {\n",
    "        System.out.println(\"grass\");\n",
    "    }\n",
    "    @Override\n",
    "    public void drink() {\n",
    "        System.out.println(\"drink\");\n",
    "    }\n",
    "}"
   ]
  },
  {
   "cell_type": "markdown",
   "metadata": {},
   "source": [
    "# *Task2*\n",
    "*Rewrite task1 using inherited class of an abstract class.*"
   ]
  },
  {
   "cell_type": "code",
   "execution_count": null,
   "metadata": {
    "vscode": {
     "languageId": "java"
    }
   },
   "outputs": [],
   "source": []
  },
  {
   "cell_type": "markdown",
   "metadata": {},
   "source": [
    "# 2. Interface"
   ]
  },
  {
   "cell_type": "markdown",
   "metadata": {},
   "source": [
    "##### 2.1 Define an interface with a abstract method."
   ]
  },
  {
   "cell_type": "code",
   "execution_count": 8,
   "metadata": {
    "vscode": {
     "languageId": "java"
    }
   },
   "outputs": [],
   "source": [
    "interface Work {\n",
    "    public abstract void test();\n",
    "}"
   ]
  },
  {
   "cell_type": "markdown",
   "metadata": {},
   "source": [
    "##### 2.2 Write an implementation class."
   ]
  },
  {
   "cell_type": "code",
   "execution_count": 10,
   "metadata": {
    "vscode": {
     "languageId": "java"
    }
   },
   "outputs": [],
   "source": [
    "class Teach implements Work {\n",
    "    @Override\n",
    "    public void test() {};\n",
    "}"
   ]
  },
  {
   "cell_type": "markdown",
   "metadata": {},
   "source": [
    "##### 2.3 Design the following classes with interface.\n",
    "1. Frog:\n",
    "    - name, age\n",
    "    - eat bugs, breaststroke\n",
    "2. Dog:\n",
    "    - name, age\n",
    "    - eat bones, dog paddle\n",
    "3. Rabbit:\n",
    "    - name, age\n",
    "    - eat carrots"
   ]
  },
  {
   "cell_type": "code",
   "execution_count": 11,
   "metadata": {
    "vscode": {
     "languageId": "java"
    }
   },
   "outputs": [],
   "source": [
    "interface Work {\n",
    "    public abstract void WorkingMethod();\n",
    "    public abstract void SwimMethod();\n",
    "}\n",
    "public class Animal {\n",
    "    \n",
    "}\n",
    "public class Frog extends Animal implements Work {\n",
    "    private int age;\n",
    "    private String name;\n",
    "    @Override\n",
    "    public void WorkingMethod() {\n",
    "        System.out.println(\"bugs\");\n",
    "    }\n",
    "    @Override\n",
    "    public void SwimMethod() {\n",
    "        System.out.println(\"breaststroke\");\n",
    "    }\n",
    "}\n",
    "public class Dog extends Animal implements Work {\n",
    "    private int age;\n",
    "    private String name;\n",
    "    @Override\n",
    "    public void WorkingMethod() {\n",
    "        System.out.println(\"bones\");\n",
    "    }\n",
    "    @Override\n",
    "    public void SwimMethod() {\n",
    "        System.out.println(\"dog paddle\");\n",
    "    }\n",
    "}\n",
    "public class Rabbit extends Animal implements Work {\n",
    "    private int age;\n",
    "    private String name;\n",
    "    @Override\n",
    "    public void WorkingMethod() {\n",
    "        System.out.println(\"carrots\");\n",
    "    }\n",
    "    @Override\n",
    "    public void SwimMethod() {\n",
    "        System.out.println(\"none\");\n",
    "    }\n",
    "}"
   ]
  },
  {
   "cell_type": "markdown",
   "metadata": {},
   "source": [
    "# *Task3*\n",
    "*Rewrite task2 using implementation class of the interface.*"
   ]
  },
  {
   "cell_type": "code",
   "execution_count": null,
   "metadata": {
    "vscode": {
     "languageId": "java"
    }
   },
   "outputs": [],
   "source": []
  },
  {
   "cell_type": "markdown",
   "metadata": {},
   "source": [
    "# Inheritance, Abstract Class and Interface."
   ]
  },
  {
   "cell_type": "markdown",
   "metadata": {},
   "source": [
    "Implement classes as requirements using inheritance, abstract class and interface.\n",
    "- **Table tennis player**:\n",
    "    - name, age\n",
    "    - play table tennis, speak english\n",
    "- **Basketball player**:\n",
    "    - name, age\n",
    "    - play basketball\n",
    "- **Table tennis coach**:\n",
    "    - name, age\n",
    "    - coach table tennis, speak english\n",
    "- **Basketball coach**:\n",
    "    - name, age\n",
    "    - coach basketball"
   ]
  },
  {
   "cell_type": "code",
   "execution_count": null,
   "metadata": {
    "vscode": {
     "languageId": "java"
    }
   },
   "outputs": [],
   "source": [
    "public class Person {\n",
    "    public int age;\n",
    "    public String name, language;\n",
    "    public void speak() {\n",
    "        system.out.println(\"Speak \" + language);\n",
    "    }\n",
    "}\n",
    "\n",
    "interface Play {\n",
    "    abstract void play();\n",
    "} \n",
    "interface Coach {\n",
    "    abstract void Coach();\n",
    "}\n",
    "\n",
    "public class TableTennisPlayer extends Person implements Play{\n",
    "    @Override\n",
    "    \n",
    "}"
   ]
  }
 ],
 "metadata": {
  "kernelspec": {
   "display_name": "Java",
   "language": "java",
   "name": "java"
  },
  "language_info": {
   "codemirror_mode": "java",
   "file_extension": ".jshell",
   "mimetype": "text/x-java-source",
   "name": "Java",
   "pygments_lexer": "java",
   "version": "21.0.4+8-LTS-274"
  }
 },
 "nbformat": 4,
 "nbformat_minor": 2
}
