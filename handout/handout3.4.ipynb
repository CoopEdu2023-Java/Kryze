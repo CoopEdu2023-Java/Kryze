{
 "cells": [
  {
   "cell_type": "markdown",
   "metadata": {},
   "source": [
    "# 1. Bubble Sort"
   ]
  },
  {
   "cell_type": "code",
   "execution_count": 7,
   "metadata": {
    "vscode": {
     "languageId": "java"
    }
   },
   "outputs": [],
   "source": [
    "public static void bubbleSort(int[] arr) {\n",
    "    int n = arr.length;\n",
    "    for (int i = 0; i < n - 1; i++) {\n",
    "        for (int j = 0; j < n - i - 1; j++) {\n",
    "            if (arr[j] > arr[j + 1]) {\n",
    "                int temp = arr[j];\n",
    "                arr[j] = arr[j + 1];\n",
    "                arr[j + 1] = temp;\n",
    "            }\n",
    "        }\n",
    "    }\n",
    "}"
   ]
  },
  {
   "cell_type": "markdown",
   "metadata": {},
   "source": [
    "# 2. Insertion Sort"
   ]
  },
  {
   "cell_type": "code",
   "execution_count": null,
   "metadata": {
    "vscode": {
     "languageId": "java"
    }
   },
   "outputs": [],
   "source": [
    "public static void insertionSort(int[] arr) {\n",
    "    int n = arr.length;\n",
    "    for (int i = 1; i < n; ++i) {\n",
    "        int key = arr[i];\n",
    "        int j = i - 1;\n",
    "        while (j >= 0 && arr[j] > key) {\n",
    "            arr[j + 1] = arr[j];\n",
    "            j = j - 1;\n",
    "        }\n",
    "        arr[j + 1] = key;\n",
    "    }\n",
    "}"
   ]
  },
  {
   "cell_type": "markdown",
   "metadata": {},
   "source": [
    "# 3. Selection Sort"
   ]
  },
  {
   "cell_type": "code",
   "execution_count": null,
   "metadata": {
    "vscode": {
     "languageId": "java"
    }
   },
   "outputs": [],
   "source": [
    "public static void selectionSort(int[] arr) {\n",
    "    int n = arr.length;\n",
    "    for (int i = 0; i < n - 1; i++) {\n",
    "        int minIndex = i;\n",
    "        for (int j = i + 1; j < n; j++) {\n",
    "            if (arr[j] < arr[minIndex]) {\n",
    "                minIndex = j;\n",
    "            }\n",
    "        }\n",
    "        int temp = arr[minIndex];\n",
    "        arr[minIndex] = arr[i];\n",
    "        arr[i] = temp;\n",
    "    }\n",
    "}"
   ]
  },
  {
   "cell_type": "markdown",
   "metadata": {},
   "source": [
    "# 4. Merge Sort"
   ]
  },
  {
   "cell_type": "code",
   "execution_count": null,
   "metadata": {
    "vscode": {
     "languageId": "java"
    }
   },
   "outputs": [],
   "source": [
    "public static void mergeSort(int[] arr) {\n",
    "    if (arr.length <= 1) {\n",
    "        return;\n",
    "    }\n",
    "    int mid = arr.length / 2;\n",
    "    int[] left = new int[mid];\n",
    "    int[] right = new int[arr.length - mid];\n",
    "    for (int i = 0; i < mid; i++) {\n",
    "        left[i] = arr[i];\n",
    "    }\n",
    "    for (int i = mid; i < arr.length; i++) {\n",
    "        right[i - mid] = arr[i];\n",
    "    }\n",
    "    mergeSort(left);\n",
    "    mergeSort(right);\n",
    "    merge(arr, left, right);\n",
    "}\n",
    "\n",
    "private static void merge(int[] arr, int[] left, int[] right) {\n",
    "    int i = 0, j = 0, k = 0;\n",
    "    while (i < left.length && j < right.length) {\n",
    "        if (left[i] <= right[j]) {\n",
    "            arr[k++] = left[i++];\n",
    "        } else {\n",
    "            arr[k++] = right[j++];\n",
    "        }\n",
    "    }\n",
    "    while (i < left.length) {\n",
    "        arr[k++] = left[i++];\n",
    "    }\n",
    "    while (j < right.length) {\n",
    "        arr[k++] = right[j++];\n",
    "    }\n",
    "}"
   ]
  },
  {
   "cell_type": "markdown",
   "metadata": {},
   "source": [
    "# 5. Quick Sort"
   ]
  },
  {
   "cell_type": "code",
   "execution_count": null,
   "metadata": {
    "vscode": {
     "languageId": "java"
    }
   },
   "outputs": [],
   "source": []
  }
 ],
 "metadata": {
  "kernelspec": {
   "display_name": "Java",
   "language": "java",
   "name": "java"
  },
  "language_info": {
   "codemirror_mode": "java",
   "file_extension": ".jshell",
   "mimetype": "text/x-java-source",
   "name": "Java",
   "pygments_lexer": "java",
   "version": "21.0.4+8-LTS-274"
  }
 },
 "nbformat": 4,
 "nbformat_minor": 2
}
